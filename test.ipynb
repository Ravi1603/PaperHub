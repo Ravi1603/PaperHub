{
 "cells": [
  {
   "cell_type": "code",
   "execution_count": 1,
   "metadata": {},
   "outputs": [],
   "source": [
    "import numpy as np\n",
    "import pandas as pd"
   ]
  },
  {
   "cell_type": "code",
   "execution_count": 15,
   "metadata": {},
   "outputs": [
    {
     "name": "stderr",
     "output_type": "stream",
     "text": [
      "C:\\Users\\rroganna\\AppData\\Local\\Temp\\ipykernel_11532\\71632752.py:2: DtypeWarning: Columns (0) have mixed types. Specify dtype option on import or set low_memory=False.\n",
      "  df2 = pd.read_csv('data\\\\papers.csv')\n"
     ]
    },
    {
     "name": "stdout",
     "output_type": "stream",
     "text": [
      "No of rows in dataset from API call is 17495\n",
      "No of rows in dataset from kaggle dataset is 2689088\n"
     ]
    }
   ],
   "source": [
    "df1 = pd.read_csv('data\\\\arxiv_papers.csv')\n",
    "df2 = pd.read_csv('data\\\\papers.csv')\n"
   ]
  },
  {
   "cell_type": "markdown",
   "metadata": {},
   "source": [
    "length of datasets"
   ]
  },
  {
   "cell_type": "code",
   "execution_count": 18,
   "metadata": {},
   "outputs": [
    {
     "name": "stdout",
     "output_type": "stream",
     "text": [
      "No of rows in dataset from API call is 17495\n",
      "No of rows in dataset from kaggle dataset is 2689088\n",
      "Columns of dataset from API call are Index(['id', 'title', 'authors', 'abstract', 'dataset', 'citations'], dtype='object')\n",
      "Columns of dataset from kaggle dataset is Index(['id', 'title', 'authors', 'categories', 'abstract', 'citations'], dtype='object')\n"
     ]
    }
   ],
   "source": [
    "print(f\"No of rows in dataset from API call is {len(df1)}\")\n",
    "print(f\"No of rows in dataset from kaggle dataset is {len(df2)}\")\n",
    "print(f\"Columns of dataset from API call are {df1.columns}\")\n",
    "print(f\"Columns of dataset from kaggle dataset is {df2.columns}\")"
   ]
  },
  {
   "cell_type": "markdown",
   "metadata": {},
   "source": [
    "Combining datasets"
   ]
  },
  {
   "cell_type": "code",
   "execution_count": 20,
   "metadata": {},
   "outputs": [
    {
     "name": "stdout",
     "output_type": "stream",
     "text": [
      "DataFrames combined and saved to 'all_papers.csv'\n"
     ]
    }
   ],
   "source": [
    "# Add a 'citations' column with random numbers between 1 and 5 to df4\n",
    "df2['citations'] = np.random.randint(1, 6, size=len(df2))\n",
    "\n",
    "# Drop the 'category' column from both df4 and df_2\n",
    "df2 = df2.drop(columns=['categories'])\n",
    "\n",
    "# Combine df4 and df_2 into a new DataFrame\n",
    "df_combined = pd.concat([df1, df2], ignore_index=True)\n",
    "\n",
    "# Export the combined DataFrame to a CSV file\n",
    "df_combined.to_csv('all_papers.csv', index=False)\n",
    "\n",
    "print(\"DataFrames combined and saved to 'all_papers.csv'\")"
   ]
  },
  {
   "cell_type": "code",
   "execution_count": 21,
   "metadata": {},
   "outputs": [
    {
     "name": "stdout",
     "output_type": "stream",
     "text": [
      "Length of combined DataFrame: 2706583\n",
      "Columns of combined DataFrame: Index(['id', 'title', 'authors', 'abstract', 'dataset', 'citations'], dtype='object')\n"
     ]
    }
   ],
   "source": [
    "print(f\"Length of combined DataFrame: {len(df_combined)}\")\n",
    "print(f\"Columns of combined DataFrame: {df_combined.columns}\")\n"
   ]
  },
  {
   "cell_type": "code",
   "execution_count": 22,
   "metadata": {},
   "outputs": [
    {
     "data": {
      "text/html": [
       "<div>\n",
       "<style scoped>\n",
       "    .dataframe tbody tr th:only-of-type {\n",
       "        vertical-align: middle;\n",
       "    }\n",
       "\n",
       "    .dataframe tbody tr th {\n",
       "        vertical-align: top;\n",
       "    }\n",
       "\n",
       "    .dataframe thead th {\n",
       "        text-align: right;\n",
       "    }\n",
       "</style>\n",
       "<table border=\"1\" class=\"dataframe\">\n",
       "  <thead>\n",
       "    <tr style=\"text-align: right;\">\n",
       "      <th></th>\n",
       "      <th>id</th>\n",
       "      <th>title</th>\n",
       "      <th>authors</th>\n",
       "      <th>abstract</th>\n",
       "      <th>dataset</th>\n",
       "      <th>citations</th>\n",
       "    </tr>\n",
       "  </thead>\n",
       "  <tbody>\n",
       "    <tr>\n",
       "      <th>0</th>\n",
       "      <td>http://arxiv.org/abs/1909.03550v1</td>\n",
       "      <td>Lecture Notes: Optimization for Machine Learning</td>\n",
       "      <td>{\"Elad Hazan\"}</td>\n",
       "      <td>Lecture notes on optimization for machine le...</td>\n",
       "      <td>arxiv</td>\n",
       "      <td>3</td>\n",
       "    </tr>\n",
       "    <tr>\n",
       "      <th>1</th>\n",
       "      <td>http://arxiv.org/abs/1811.04422v1</td>\n",
       "      <td>An Optimal Control View of Adversarial Machine...</td>\n",
       "      <td>{\"Xiaojin Zhu\"}</td>\n",
       "      <td>I describe an optimal control view of advers...</td>\n",
       "      <td>arxiv</td>\n",
       "      <td>1</td>\n",
       "    </tr>\n",
       "    <tr>\n",
       "      <th>2</th>\n",
       "      <td>http://arxiv.org/abs/1707.04849v1</td>\n",
       "      <td>Minimax deviation strategies for machine learn...</td>\n",
       "      <td>{\"Michail Schlesinger\",\"Evgeniy Vodolazskiy\"}</td>\n",
       "      <td>The article is devoted to the problem of sma...</td>\n",
       "      <td>arxiv</td>\n",
       "      <td>3</td>\n",
       "    </tr>\n",
       "    <tr>\n",
       "      <th>3</th>\n",
       "      <td>http://arxiv.org/abs/1909.09246v1</td>\n",
       "      <td>Machine Learning for Clinical Predictive Analy...</td>\n",
       "      <td>{\"Wei-Hung Weng\"}</td>\n",
       "      <td>In this chapter, we provide a brief overview...</td>\n",
       "      <td>arxiv</td>\n",
       "      <td>5</td>\n",
       "    </tr>\n",
       "    <tr>\n",
       "      <th>4</th>\n",
       "      <td>http://arxiv.org/abs/2301.09753v1</td>\n",
       "      <td>Towards Modular Machine Learning Solution Deve...</td>\n",
       "      <td>{\"Samiyuru Menik\",\"Lakshmish Ramaswamy\"}</td>\n",
       "      <td>Machine learning technologies have demonstra...</td>\n",
       "      <td>arxiv</td>\n",
       "      <td>3</td>\n",
       "    </tr>\n",
       "    <tr>\n",
       "      <th>5</th>\n",
       "      <td>http://arxiv.org/abs/0904.3664v1</td>\n",
       "      <td>Introduction to Machine Learning: Class Notes ...</td>\n",
       "      <td>{\"Amnon Shashua\"}</td>\n",
       "      <td>Introduction to Machine learning covering St...</td>\n",
       "      <td>arxiv</td>\n",
       "      <td>1</td>\n",
       "    </tr>\n",
       "    <tr>\n",
       "      <th>6</th>\n",
       "      <td>http://arxiv.org/abs/2012.04105v1</td>\n",
       "      <td>The Tribes of Machine Learning and the Realm o...</td>\n",
       "      <td>{\"Ayaz Akram\",\"Jason Lowe-Power\"}</td>\n",
       "      <td>Machine learning techniques have influenced ...</td>\n",
       "      <td>arxiv</td>\n",
       "      <td>5</td>\n",
       "    </tr>\n",
       "    <tr>\n",
       "      <th>7</th>\n",
       "      <td>http://arxiv.org/abs/2204.07492v2</td>\n",
       "      <td>A Machine Learning Tutorial for Operational Me...</td>\n",
       "      <td>{\"Randy J. Chase\",\"David R. Harrison\",\"Amanda ...</td>\n",
       "      <td>Recently, the use of machine learning in met...</td>\n",
       "      <td>arxiv</td>\n",
       "      <td>3</td>\n",
       "    </tr>\n",
       "    <tr>\n",
       "      <th>8</th>\n",
       "      <td>http://arxiv.org/abs/1911.06612v1</td>\n",
       "      <td>Position Paper: Towards Transparent Machine Le...</td>\n",
       "      <td>{\"Dustin Juliano\"}</td>\n",
       "      <td>Transparent machine learning is introduced a...</td>\n",
       "      <td>arxiv</td>\n",
       "      <td>1</td>\n",
       "    </tr>\n",
       "    <tr>\n",
       "      <th>9</th>\n",
       "      <td>http://arxiv.org/abs/1708.02666v1</td>\n",
       "      <td>Proceedings of the 2017 ICML Workshop on Human...</td>\n",
       "      <td>{\"Been Kim\",\"Dmitry M. Malioutov\",\"Kush R. Var...</td>\n",
       "      <td>This is the Proceedings of the 2017 ICML Wor...</td>\n",
       "      <td>arxiv</td>\n",
       "      <td>4</td>\n",
       "    </tr>\n",
       "  </tbody>\n",
       "</table>\n",
       "</div>"
      ],
      "text/plain": [
       "                                  id  \\\n",
       "0  http://arxiv.org/abs/1909.03550v1   \n",
       "1  http://arxiv.org/abs/1811.04422v1   \n",
       "2  http://arxiv.org/abs/1707.04849v1   \n",
       "3  http://arxiv.org/abs/1909.09246v1   \n",
       "4  http://arxiv.org/abs/2301.09753v1   \n",
       "5   http://arxiv.org/abs/0904.3664v1   \n",
       "6  http://arxiv.org/abs/2012.04105v1   \n",
       "7  http://arxiv.org/abs/2204.07492v2   \n",
       "8  http://arxiv.org/abs/1911.06612v1   \n",
       "9  http://arxiv.org/abs/1708.02666v1   \n",
       "\n",
       "                                               title  \\\n",
       "0   Lecture Notes: Optimization for Machine Learning   \n",
       "1  An Optimal Control View of Adversarial Machine...   \n",
       "2  Minimax deviation strategies for machine learn...   \n",
       "3  Machine Learning for Clinical Predictive Analy...   \n",
       "4  Towards Modular Machine Learning Solution Deve...   \n",
       "5  Introduction to Machine Learning: Class Notes ...   \n",
       "6  The Tribes of Machine Learning and the Realm o...   \n",
       "7  A Machine Learning Tutorial for Operational Me...   \n",
       "8  Position Paper: Towards Transparent Machine Le...   \n",
       "9  Proceedings of the 2017 ICML Workshop on Human...   \n",
       "\n",
       "                                             authors  \\\n",
       "0                                     {\"Elad Hazan\"}   \n",
       "1                                    {\"Xiaojin Zhu\"}   \n",
       "2      {\"Michail Schlesinger\",\"Evgeniy Vodolazskiy\"}   \n",
       "3                                  {\"Wei-Hung Weng\"}   \n",
       "4           {\"Samiyuru Menik\",\"Lakshmish Ramaswamy\"}   \n",
       "5                                  {\"Amnon Shashua\"}   \n",
       "6                  {\"Ayaz Akram\",\"Jason Lowe-Power\"}   \n",
       "7  {\"Randy J. Chase\",\"David R. Harrison\",\"Amanda ...   \n",
       "8                                 {\"Dustin Juliano\"}   \n",
       "9  {\"Been Kim\",\"Dmitry M. Malioutov\",\"Kush R. Var...   \n",
       "\n",
       "                                            abstract dataset  citations  \n",
       "0    Lecture notes on optimization for machine le...   arxiv          3  \n",
       "1    I describe an optimal control view of advers...   arxiv          1  \n",
       "2    The article is devoted to the problem of sma...   arxiv          3  \n",
       "3    In this chapter, we provide a brief overview...   arxiv          5  \n",
       "4    Machine learning technologies have demonstra...   arxiv          3  \n",
       "5    Introduction to Machine learning covering St...   arxiv          1  \n",
       "6    Machine learning techniques have influenced ...   arxiv          5  \n",
       "7    Recently, the use of machine learning in met...   arxiv          3  \n",
       "8    Transparent machine learning is introduced a...   arxiv          1  \n",
       "9    This is the Proceedings of the 2017 ICML Wor...   arxiv          4  "
      ]
     },
     "execution_count": 22,
     "metadata": {},
     "output_type": "execute_result"
    }
   ],
   "source": [
    "df_combined.head(10)"
   ]
  },
  {
   "cell_type": "code",
   "execution_count": 5,
   "metadata": {},
   "outputs": [
    {
     "name": "stdout",
     "output_type": "stream",
     "text": [
      "\n",
      "Recommended Papers:\n",
      "Paper 1:\n",
      "ID: http://arxiv.org/abs/1904.12843v2\n",
      "Title: Adversarial Training for Free!\n",
      "Abstract:   Adversarial training, in which a network is trained on adversarial examples,\n",
      "is one of the few defenses against adversarial attacks that withstands strong\n",
      "attacks. Unfortunately, the high cost of generating strong adversarial examples\n",
      "makes standard adversarial training impractical on large-scale ...\n",
      "Citations: 4\n",
      "\n",
      "--------------------------------------------------\n",
      "\n",
      "Paper 2:\n",
      "ID: http://arxiv.org/abs/1811.01302v1\n",
      "Title: Adversarial Gain\n",
      "Abstract:   Adversarial examples can be defined as inputs to a model which induce a\n",
      "mistake - where the model output is different than that of an oracle, perhaps\n",
      "in surprising or malicious ways. Original models of adversarial attacks are\n",
      "primarily studied in the context of classification and computer vision t...\n",
      "Citations: 1\n",
      "\n",
      "--------------------------------------------------\n",
      "\n",
      "Paper 3:\n",
      "ID: http://arxiv.org/abs/2210.01288v1\n",
      "Title: Strength-Adaptive Adversarial Training\n",
      "Abstract:   Adversarial training (AT) is proved to reliably improve network's robustness\n",
      "against adversarial data. However, current AT with a pre-specified perturbation\n",
      "budget has limitations in learning a robust network. Firstly, applying a\n",
      "pre-specified perturbation budget on networks of various model capac...\n",
      "Citations: 5\n",
      "\n",
      "--------------------------------------------------\n",
      "\n",
      "Paper 4:\n",
      "ID: http://arxiv.org/abs/2109.09901v5\n",
      "Title: Modeling Adversarial Noise for Adversarial Training\n",
      "Abstract:   Deep neural networks have been demonstrated to be vulnerable to adversarial\n",
      "noise, promoting the development of defense against adversarial attacks.\n",
      "Motivated by the fact that adversarial noise contains well-generalizing\n",
      "features and that the relationship between adversarial data and natural data\n",
      "...\n",
      "Citations: 2\n",
      "\n",
      "--------------------------------------------------\n",
      "\n",
      "Paper 5:\n",
      "ID: http://arxiv.org/abs/1807.08108v3\n",
      "Title: Simultaneous Adversarial Training - Learn from Others Mistakes\n",
      "Abstract:   Adversarial examples are maliciously tweaked images that can easily fool\n",
      "machine learning techniques, such as neural networks, but they are normally not\n",
      "visually distinguishable for human beings. One of the main approaches to solve\n",
      "this problem is to retrain the networks using those adversarial ex...\n",
      "Citations: 4\n",
      "\n",
      "--------------------------------------------------\n",
      "\n"
     ]
    }
   ],
   "source": [
    "import requests\n",
    "\n",
    "url = \"http://127.0.0.1:5000/recommend\"\n",
    "response = requests.get(url)  # Use GET method\n",
    "recommendations = response.json()\n",
    "\n",
    "# Format and print recommendations\n",
    "print(\"\\nRecommended Papers:\")\n",
    "for i, paper in enumerate(recommendations, 1):\n",
    "    print(f\"Paper {i}:\")\n",
    "    print(f\"ID: {paper['id']}\")\n",
    "    print(f\"Title: {paper['title']}\")\n",
    "    print(f\"Abstract: {paper['abstract'][:300]}...\")  # Truncate abstract for readability\n",
    "    print(f\"Citations: {paper['citations']}\")\n",
    "    print(\"\\n\" + \"-\"*50 + \"\\n\")"
   ]
  },
  {
   "cell_type": "code",
   "execution_count": 1,
   "metadata": {},
   "outputs": [
    {
     "name": "stdout",
     "output_type": "stream",
     "text": [
      "Requirement already satisfied: huggingface_hub in c:\\users\\rroganna\\desktop\\paperhub\\venv\\lib\\site-packages (0.29.3)\n",
      "Requirement already satisfied: filelock in c:\\users\\rroganna\\desktop\\paperhub\\venv\\lib\\site-packages (from huggingface_hub) (3.18.0)\n",
      "Requirement already satisfied: fsspec>=2023.5.0 in c:\\users\\rroganna\\desktop\\paperhub\\venv\\lib\\site-packages (from huggingface_hub) (2025.3.0)\n",
      "Requirement already satisfied: packaging>=20.9 in c:\\users\\rroganna\\desktop\\paperhub\\venv\\lib\\site-packages (from huggingface_hub) (24.2)\n",
      "Requirement already satisfied: pyyaml>=5.1 in c:\\users\\rroganna\\desktop\\paperhub\\venv\\lib\\site-packages (from huggingface_hub) (6.0.2)\n",
      "Requirement already satisfied: requests in c:\\users\\rroganna\\desktop\\paperhub\\venv\\lib\\site-packages (from huggingface_hub) (2.32.3)\n",
      "Requirement already satisfied: tqdm>=4.42.1 in c:\\users\\rroganna\\desktop\\paperhub\\venv\\lib\\site-packages (from huggingface_hub) (4.67.1)\n",
      "Requirement already satisfied: typing-extensions>=3.7.4.3 in c:\\users\\rroganna\\desktop\\paperhub\\venv\\lib\\site-packages (from huggingface_hub) (4.12.2)\n",
      "Requirement already satisfied: colorama in c:\\users\\rroganna\\desktop\\paperhub\\venv\\lib\\site-packages (from tqdm>=4.42.1->huggingface_hub) (0.4.6)\n",
      "Requirement already satisfied: charset-normalizer<4,>=2 in c:\\users\\rroganna\\desktop\\paperhub\\venv\\lib\\site-packages (from requests->huggingface_hub) (3.4.1)\n",
      "Requirement already satisfied: idna<4,>=2.5 in c:\\users\\rroganna\\desktop\\paperhub\\venv\\lib\\site-packages (from requests->huggingface_hub) (3.10)\n",
      "Requirement already satisfied: urllib3<3,>=1.21.1 in c:\\users\\rroganna\\desktop\\paperhub\\venv\\lib\\site-packages (from requests->huggingface_hub) (2.3.0)\n",
      "Requirement already satisfied: certifi>=2017.4.17 in c:\\users\\rroganna\\desktop\\paperhub\\venv\\lib\\site-packages (from requests->huggingface_hub) (2025.1.31)\n"
     ]
    }
   ],
   "source": [
    "!pip install huggingface_hub"
   ]
  },
  {
   "cell_type": "code",
   "execution_count": 3,
   "metadata": {},
   "outputs": [
    {
     "data": {
      "text/html": [
       "<div>\n",
       "<style scoped>\n",
       "    .dataframe tbody tr th:only-of-type {\n",
       "        vertical-align: middle;\n",
       "    }\n",
       "\n",
       "    .dataframe tbody tr th {\n",
       "        vertical-align: top;\n",
       "    }\n",
       "\n",
       "    .dataframe thead th {\n",
       "        text-align: right;\n",
       "    }\n",
       "</style>\n",
       "<table border=\"1\" class=\"dataframe\">\n",
       "  <thead>\n",
       "    <tr style=\"text-align: right;\">\n",
       "      <th></th>\n",
       "      <th>id</th>\n",
       "      <th>title</th>\n",
       "      <th>authors</th>\n",
       "      <th>abstract</th>\n",
       "      <th>category</th>\n",
       "      <th>dataset</th>\n",
       "      <th>citations</th>\n",
       "    </tr>\n",
       "  </thead>\n",
       "  <tbody>\n",
       "    <tr>\n",
       "      <th>0</th>\n",
       "      <td>http://arxiv.org/abs/1909.03550v1</td>\n",
       "      <td>Lecture Notes: Optimization for Machine Learning</td>\n",
       "      <td>{\"Elad Hazan\"}</td>\n",
       "      <td>Lecture notes on optimization for machine le...</td>\n",
       "      <td>cs.LG</td>\n",
       "      <td>arxiv</td>\n",
       "      <td>3</td>\n",
       "    </tr>\n",
       "    <tr>\n",
       "      <th>1</th>\n",
       "      <td>http://arxiv.org/abs/1811.04422v1</td>\n",
       "      <td>An Optimal Control View of Adversarial Machine...</td>\n",
       "      <td>{\"Xiaojin Zhu\"}</td>\n",
       "      <td>I describe an optimal control view of advers...</td>\n",
       "      <td>cs.LG</td>\n",
       "      <td>arxiv</td>\n",
       "      <td>1</td>\n",
       "    </tr>\n",
       "    <tr>\n",
       "      <th>2</th>\n",
       "      <td>http://arxiv.org/abs/1707.04849v1</td>\n",
       "      <td>Minimax deviation strategies for machine learn...</td>\n",
       "      <td>{\"Michail Schlesinger\",\"Evgeniy Vodolazskiy\"}</td>\n",
       "      <td>The article is devoted to the problem of sma...</td>\n",
       "      <td>cs.LG</td>\n",
       "      <td>arxiv</td>\n",
       "      <td>3</td>\n",
       "    </tr>\n",
       "    <tr>\n",
       "      <th>3</th>\n",
       "      <td>http://arxiv.org/abs/1909.09246v1</td>\n",
       "      <td>Machine Learning for Clinical Predictive Analy...</td>\n",
       "      <td>{\"Wei-Hung Weng\"}</td>\n",
       "      <td>In this chapter, we provide a brief overview...</td>\n",
       "      <td>cs.LG</td>\n",
       "      <td>arxiv</td>\n",
       "      <td>5</td>\n",
       "    </tr>\n",
       "    <tr>\n",
       "      <th>4</th>\n",
       "      <td>http://arxiv.org/abs/2301.09753v1</td>\n",
       "      <td>Towards Modular Machine Learning Solution Deve...</td>\n",
       "      <td>{\"Samiyuru Menik\",\"Lakshmish Ramaswamy\"}</td>\n",
       "      <td>Machine learning technologies have demonstra...</td>\n",
       "      <td>cs.LG</td>\n",
       "      <td>arxiv</td>\n",
       "      <td>3</td>\n",
       "    </tr>\n",
       "    <tr>\n",
       "      <th>...</th>\n",
       "      <td>...</td>\n",
       "      <td>...</td>\n",
       "      <td>...</td>\n",
       "      <td>...</td>\n",
       "      <td>...</td>\n",
       "      <td>...</td>\n",
       "      <td>...</td>\n",
       "    </tr>\n",
       "    <tr>\n",
       "      <th>17490</th>\n",
       "      <td>http://arxiv.org/abs/2105.00060v1</td>\n",
       "      <td>Ethical Implementation of Artificial Intellige...</td>\n",
       "      <td>{\"Michael Anis Mihdi Afnan\",\"Cynthia Rudin\",\"V...</td>\n",
       "      <td>AI has the potential to revolutionize many a...</td>\n",
       "      <td>cs.AI</td>\n",
       "      <td>arxiv</td>\n",
       "      <td>3</td>\n",
       "    </tr>\n",
       "    <tr>\n",
       "      <th>17491</th>\n",
       "      <td>http://arxiv.org/abs/2105.05012v1</td>\n",
       "      <td>Robotic Assistant Agent for Student and Machin...</td>\n",
       "      <td>{\"Chang-Shing Lee\",\"Mei-Hui Wang\",\"Zong-Han Ci...</td>\n",
       "      <td>In this paper, the Robotic Assistant Agent f...</td>\n",
       "      <td>cs.AI</td>\n",
       "      <td>arxiv</td>\n",
       "      <td>2</td>\n",
       "    </tr>\n",
       "    <tr>\n",
       "      <th>17492</th>\n",
       "      <td>http://arxiv.org/abs/2105.07844v1</td>\n",
       "      <td>Does \"AI\" stand for augmenting inequality in t...</td>\n",
       "      <td>{\"David Leslie\",\"Anjali Mazumder\",\"Aidan Peppi...</td>\n",
       "      <td>Among the most damaging characteristics of t...</td>\n",
       "      <td>cs.CY</td>\n",
       "      <td>arxiv</td>\n",
       "      <td>4</td>\n",
       "    </tr>\n",
       "    <tr>\n",
       "      <th>17493</th>\n",
       "      <td>http://arxiv.org/abs/2106.09140v1</td>\n",
       "      <td>Human-AI Interactions Through A Gricean Lens</td>\n",
       "      <td>{\"Laura Panfili\",\"Steve Duman\",\"Andrew Nave\",\"...</td>\n",
       "      <td>Grice's Cooperative Principle (1975) describ...</td>\n",
       "      <td>cs.HC</td>\n",
       "      <td>arxiv</td>\n",
       "      <td>3</td>\n",
       "    </tr>\n",
       "    <tr>\n",
       "      <th>17494</th>\n",
       "      <td>http://arxiv.org/abs/2108.01033v1</td>\n",
       "      <td>Bringing AI pipelines onto cloud-HPC: setting ...</td>\n",
       "      <td>{\"Iacopo Colonnelli\",\"Barbara Cantalupo\",\"Conc...</td>\n",
       "      <td>HPC is an enabling platform for AI. The intr...</td>\n",
       "      <td>cs.DC</td>\n",
       "      <td>arxiv</td>\n",
       "      <td>3</td>\n",
       "    </tr>\n",
       "  </tbody>\n",
       "</table>\n",
       "<p>17495 rows × 7 columns</p>\n",
       "</div>"
      ],
      "text/plain": [
       "                                      id  \\\n",
       "0      http://arxiv.org/abs/1909.03550v1   \n",
       "1      http://arxiv.org/abs/1811.04422v1   \n",
       "2      http://arxiv.org/abs/1707.04849v1   \n",
       "3      http://arxiv.org/abs/1909.09246v1   \n",
       "4      http://arxiv.org/abs/2301.09753v1   \n",
       "...                                  ...   \n",
       "17490  http://arxiv.org/abs/2105.00060v1   \n",
       "17491  http://arxiv.org/abs/2105.05012v1   \n",
       "17492  http://arxiv.org/abs/2105.07844v1   \n",
       "17493  http://arxiv.org/abs/2106.09140v1   \n",
       "17494  http://arxiv.org/abs/2108.01033v1   \n",
       "\n",
       "                                                   title  \\\n",
       "0       Lecture Notes: Optimization for Machine Learning   \n",
       "1      An Optimal Control View of Adversarial Machine...   \n",
       "2      Minimax deviation strategies for machine learn...   \n",
       "3      Machine Learning for Clinical Predictive Analy...   \n",
       "4      Towards Modular Machine Learning Solution Deve...   \n",
       "...                                                  ...   \n",
       "17490  Ethical Implementation of Artificial Intellige...   \n",
       "17491  Robotic Assistant Agent for Student and Machin...   \n",
       "17492  Does \"AI\" stand for augmenting inequality in t...   \n",
       "17493       Human-AI Interactions Through A Gricean Lens   \n",
       "17494  Bringing AI pipelines onto cloud-HPC: setting ...   \n",
       "\n",
       "                                                 authors  \\\n",
       "0                                         {\"Elad Hazan\"}   \n",
       "1                                        {\"Xiaojin Zhu\"}   \n",
       "2          {\"Michail Schlesinger\",\"Evgeniy Vodolazskiy\"}   \n",
       "3                                      {\"Wei-Hung Weng\"}   \n",
       "4               {\"Samiyuru Menik\",\"Lakshmish Ramaswamy\"}   \n",
       "...                                                  ...   \n",
       "17490  {\"Michael Anis Mihdi Afnan\",\"Cynthia Rudin\",\"V...   \n",
       "17491  {\"Chang-Shing Lee\",\"Mei-Hui Wang\",\"Zong-Han Ci...   \n",
       "17492  {\"David Leslie\",\"Anjali Mazumder\",\"Aidan Peppi...   \n",
       "17493  {\"Laura Panfili\",\"Steve Duman\",\"Andrew Nave\",\"...   \n",
       "17494  {\"Iacopo Colonnelli\",\"Barbara Cantalupo\",\"Conc...   \n",
       "\n",
       "                                                abstract category dataset  \\\n",
       "0        Lecture notes on optimization for machine le...    cs.LG   arxiv   \n",
       "1        I describe an optimal control view of advers...    cs.LG   arxiv   \n",
       "2        The article is devoted to the problem of sma...    cs.LG   arxiv   \n",
       "3        In this chapter, we provide a brief overview...    cs.LG   arxiv   \n",
       "4        Machine learning technologies have demonstra...    cs.LG   arxiv   \n",
       "...                                                  ...      ...     ...   \n",
       "17490    AI has the potential to revolutionize many a...    cs.AI   arxiv   \n",
       "17491    In this paper, the Robotic Assistant Agent f...    cs.AI   arxiv   \n",
       "17492    Among the most damaging characteristics of t...    cs.CY   arxiv   \n",
       "17493    Grice's Cooperative Principle (1975) describ...    cs.HC   arxiv   \n",
       "17494    HPC is an enabling platform for AI. The intr...    cs.DC   arxiv   \n",
       "\n",
       "       citations  \n",
       "0              3  \n",
       "1              1  \n",
       "2              3  \n",
       "3              5  \n",
       "4              3  \n",
       "...          ...  \n",
       "17490          3  \n",
       "17491          2  \n",
       "17492          4  \n",
       "17493          3  \n",
       "17494          3  \n",
       "\n",
       "[17495 rows x 7 columns]"
      ]
     },
     "execution_count": 3,
     "metadata": {},
     "output_type": "execute_result"
    }
   ],
   "source": [
    "import pandas as pd\n",
    "df1 = pd.read_csv('data\\\\all_papers.csv')\n",
    "df1"
   ]
  },
  {
   "cell_type": "code",
   "execution_count": 4,
   "metadata": {},
   "outputs": [
    {
     "name": "stdout",
     "output_type": "stream",
     "text": [
      "140\n",
      "['cs.LG' 'physics.ao-ph' 'stat.ML' 'cs.DC' 'quant-ph' 'cs.AI'\n",
      " 'physics.comp-ph' 'cs.HC' 'stat.CO' 'cond-mat.mtrl-sci' 'cs.CR' 'cs.CY'\n",
      " 'cs.CE' 'cs.SE' 'cs.FL' 'math.NA' 'cs.IT' 'q-fin.ST' 'stat.ME' 'cs.CV'\n",
      " 'econ.EM' 'eess.IV' 'q-bio.MN' 'q-bio.PE' 'physics.chem-ph' 'stat.AP'\n",
      " 'astro-ph.IM' 'cs.GT' 'cs.PL' 'q-bio.NC' 'eess.SP' 'q-bio.QM'\n",
      " 'cond-mat.dis-nn' 'eess.SY' 'cs.NE' 'physics.geo-ph' 'cs.IR' 'cs.RO'\n",
      " 'cs.CL' 'cs.NI' 'cs.DB' 'physics.flu-dyn' 'cs.MS' 'q-bio.OT'\n",
      " 'cond-mat.stat-mech' 'econ.GN' 'stat.OT' 'nucl-th' 'cs.MM' 'cs.SD'\n",
      " 'cs.SC' 'math.OC' 'physics.optics' 'math.CO' 'hep-th' 'q-bio.GN' 'cs.ET'\n",
      " 'q-fin.CP' 'physics.data-an' 'q-fin.PR' 'astro-ph.EP' 'econ.TH'\n",
      " 'q-fin.RM' 'math.AG' 'cs.CG' 'cond-mat.quant-gas' 'physics.ins-det'\n",
      " 'eess.AS' 'physics.app-ph' 'physics.med-ph' 'cs.DL' 'cs.SI' 'hep-ph'\n",
      " 'cs.GR' 'math.DS' 'cs.MA' 'cond-mat.str-el' 'cmp-lg' 'nlin.AO' 'cs.GL'\n",
      " 'q-fin.GN' 'cs.AR' 'cs.LO' 'math.HO' 'math.DG' 'cs.PF' 'cs.OH' 'cs.DS'\n",
      " 'math.ST' 'math.AP' 'physics.soc-ph' 'astro-ph' 'physics.ed-ph'\n",
      " 'astro-ph.HE' 'math.NT' 'hep-ex' 'math.RT' 'math.GT' 'gr-qc' 'cs.CC'\n",
      " 'q-fin.TR' 'cs.NA' 'cs.SY' 'physics.gen-ph' 'astro-ph.CO' 'math.AT'\n",
      " 'math.KT' 'math.GM' 'math-ph' 'math.FA' 'cs.OS' 'math.OA' 'math.AC'\n",
      " 'q-fin.PM' 'astro-ph.SR' 'astro-ph.GA' 'nucl-ex' 'physics.space-ph'\n",
      " 'math.MG' 'physics.plasm-ph' 'math.PR' 'chao-dyn' 'math.CT' 'nlin.SI'\n",
      " 'math.CA' 'math.CV' 'cond-mat.mes-hall' 'q-fin.EC' 'cs.DM'\n",
      " 'physics.bio-ph' 'q-bio.BM' 'cond-mat.soft' 'q-fin.MF' 'physics.class-ph'\n",
      " 'nlin.PS' 'q-bio.CB' 'q-bio.SC' 'math.RA' 'math.QA' 'nlin.CD']\n"
     ]
    }
   ],
   "source": [
    "print(len(df1['category'].unique()))\n",
    "print(df1['category'].unique())\n"
   ]
  },
  {
   "cell_type": "code",
   "execution_count": 6,
   "metadata": {},
   "outputs": [
    {
     "data": {
      "text/plain": [
       "category\n",
       "astro-ph        56\n",
       "astro-ph.CO     20\n",
       "astro-ph.EP     15\n",
       "astro-ph.GA     27\n",
       "astro-ph.HE      7\n",
       "              ... \n",
       "stat.AP         48\n",
       "stat.CO         26\n",
       "stat.ME         82\n",
       "stat.ML        435\n",
       "stat.OT         10\n",
       "Name: title, Length: 140, dtype: int64"
      ]
     },
     "execution_count": 6,
     "metadata": {},
     "output_type": "execute_result"
    }
   ],
   "source": [
    "# Group by 'category' and count the number of unique titles in each category\n",
    "category_title_counts = df1.groupby('category')['title'].nunique()\n",
    "\n",
    "# Print the counts\n",
    "category_title_counts"
   ]
  },
  {
   "cell_type": "code",
   "execution_count": 4,
   "metadata": {},
   "outputs": [
    {
     "data": {
      "text/plain": [
       "17490"
      ]
     },
     "execution_count": 4,
     "metadata": {},
     "output_type": "execute_result"
    }
   ],
   "source": [
    "len(df1['title'].unique())"
   ]
  },
  {
   "cell_type": "code",
   "execution_count": 8,
   "metadata": {},
   "outputs": [
    {
     "data": {
      "image/png": "[encoded data removed]",
      "text/plain": [
       "<Figure size 640x480 with 1 Axes>"
      ]
     },
     "metadata": {},
     "output_type": "display_data"
    }
   ],
   "source": [
    "import matplotlib.pyplot as plt\n",
    "\n",
    "# Values for k and corresponding Silhouette Scores\n",
    "k_values = [2, 3, 4, 5, 6, 7, 8, 9, 10, 11, 12, 13, 14, 15, 16, 17, 18, 19, 20]\n",
    "silhouette_scores = [0.0071, 0.0088, 0.0109, 0.0126, 0.0128, 0.0153, 0.0158, 0.0147,\n",
    "                     0.0165, 0.0162, 0.0168, 0.0168, 0.0155, 0.0155, 0.0157,\n",
    "                     0.0166, 0.0167, 0.0180, 0.0179]\n",
    "\n",
    "# Plotting the values\n",
    "plt.plot(k_values, silhouette_scores, marker='o')\n",
    "\n",
    "# Adding title and labels\n",
    "plt.title('Silhouette Scores for Different Values of k')\n",
    "plt.xlabel('Number of Clusters (k)')\n",
    "plt.ylabel('Silhouette Score')\n",
    "\n",
    "# Display the plot\n",
    "plt.show()"
   ]
  },
  {
   "cell_type": "code",
   "execution_count": 6,
   "metadata": {},
   "outputs": [
    {
     "data": {
      "image/png": "[encoded data removed]",
      "text/plain": [
       "<Figure size 640x480 with 1 Axes>"
      ]
     },
     "metadata": {},
     "output_type": "display_data"
    }
   ],
   "source": [
    "import matplotlib.pyplot as plt\n",
    "\n",
    "# Values for k and corresponding Silhouette Scores\n",
    "k_values = [2, 3, 4, 5, 6, 7, 8, 9, 10, 11, 12, 13, 14, 15, 16, 17, 18, 19, 20]\n",
    "silhouette_scores = [0.3586, 0.5484, 0.5753, 0.6200, 0.6630, 0.7192, 0.7692,\n",
    "                     0.7867, 0.7993, 0.8221, 0.8297, 0.8372, 0.8603,\n",
    "                     0.8652, 0.8751, 0.8846, 0.8892, 0.8929, \n",
    "                     0.8985]\n",
    "\n",
    "# Plotting the values\n",
    "plt.plot(k_values, silhouette_scores, marker='o')\n",
    "\n",
    "# Adding title and labels\n",
    "plt.title('Silhouette Scores for Different Values of k')\n",
    "plt.xlabel('Number of Clusters (k)')\n",
    "plt.ylabel('Silhouette Score')\n",
    "\n",
    "# Display the plot\n",
    "plt.show()"
   ]
  },
  {
   "cell_type": "code",
   "execution_count": null,
   "metadata": {},
   "outputs": [],
   "source": [
    "import pandas as pd\n",
    "\n",
    "# Path to your JSONL file\n",
    "file_path = \"C:\\\\Users\\\\rroganna\\\\Downloads\\\\DBLP-Citation-network-V17\\\\DBLP-Citation-network-V17.jsonl\"\n",
    "\n",
    "# Read the JSONL file into a pandas DataFrame\n",
    "df = pd.read_json(file_path, lines=True)\n",
    "\n",
    "# Display the DataFrame\n",
    "print(df.head())\n"
   ]
  },
  {
   "cell_type": "code",
   "execution_count": 2,
   "metadata": {},
   "outputs": [
    {
     "ename": "KeyboardInterrupt",
     "evalue": "",
     "output_type": "error",
     "traceback": [
      "\u001b[31m---------------------------------------------------------------------------\u001b[39m",
      "\u001b[31mKeyboardInterrupt\u001b[39m                         Traceback (most recent call last)",
      "\u001b[36mCell\u001b[39m\u001b[36m \u001b[39m\u001b[32mIn[2]\u001b[39m\u001b[32m, line 6\u001b[39m\n\u001b[32m      1\u001b[39m \u001b[38;5;28;01mfrom\u001b[39;00m\u001b[38;5;250m \u001b[39m\u001b[34;01mpyspark\u001b[39;00m\u001b[34;01m.\u001b[39;00m\u001b[34;01msql\u001b[39;00m\u001b[38;5;250m \u001b[39m\u001b[38;5;28;01mimport\u001b[39;00m SparkSession\n\u001b[32m      3\u001b[39m \u001b[38;5;66;03m# Initialize a Spark session\u001b[39;00m\n\u001b[32m      4\u001b[39m spark = \u001b[43mSparkSession\u001b[49m\u001b[43m.\u001b[49m\u001b[43mbuilder\u001b[49m\u001b[43m \u001b[49m\u001b[43m\\\u001b[49m\n\u001b[32m      5\u001b[39m \u001b[43m    \u001b[49m\u001b[43m.\u001b[49m\u001b[43mappName\u001b[49m\u001b[43m(\u001b[49m\u001b[33;43m\"\u001b[39;49m\u001b[33;43mRead JSONL File\u001b[39;49m\u001b[33;43m\"\u001b[39;49m\u001b[43m)\u001b[49m\u001b[43m \u001b[49m\u001b[43m\\\u001b[49m\n\u001b[32m----> \u001b[39m\u001b[32m6\u001b[39m \u001b[43m    \u001b[49m\u001b[43m.\u001b[49m\u001b[43mgetOrCreate\u001b[49m\u001b[43m(\u001b[49m\u001b[43m)\u001b[49m\n\u001b[32m      8\u001b[39m \u001b[38;5;66;03m# Path to your JSONL file\u001b[39;00m\n\u001b[32m      9\u001b[39m file_path = \u001b[33m\"\u001b[39m\u001b[33mC:\u001b[39m\u001b[38;5;130;01m\\\\\u001b[39;00m\u001b[33mUsers\u001b[39m\u001b[38;5;130;01m\\\\\u001b[39;00m\u001b[33mrroganna\u001b[39m\u001b[38;5;130;01m\\\\\u001b[39;00m\u001b[33mDownloads\u001b[39m\u001b[38;5;130;01m\\\\\u001b[39;00m\u001b[33mDBLP-Citation-network-V17\u001b[39m\u001b[38;5;130;01m\\\\\u001b[39;00m\u001b[33mDBLP-Citation-network-V17.jsonl\u001b[39m\u001b[33m\"\u001b[39m\n",
      "\u001b[36mFile \u001b[39m\u001b[32mc:\\Users\\rroganna\\Desktop\\PaperHub\\venv\\Lib\\site-packages\\pyspark\\sql\\session.py:497\u001b[39m, in \u001b[36mSparkSession.Builder.getOrCreate\u001b[39m\u001b[34m(self)\u001b[39m\n\u001b[32m    495\u001b[39m     sparkConf.set(key, value)\n\u001b[32m    496\u001b[39m \u001b[38;5;66;03m# This SparkContext may be an existing one.\u001b[39;00m\n\u001b[32m--> \u001b[39m\u001b[32m497\u001b[39m sc = \u001b[43mSparkContext\u001b[49m\u001b[43m.\u001b[49m\u001b[43mgetOrCreate\u001b[49m\u001b[43m(\u001b[49m\u001b[43msparkConf\u001b[49m\u001b[43m)\u001b[49m\n\u001b[32m    498\u001b[39m \u001b[38;5;66;03m# Do not update `SparkConf` for existing `SparkContext`, as it's shared\u001b[39;00m\n\u001b[32m    499\u001b[39m \u001b[38;5;66;03m# by all sessions.\u001b[39;00m\n\u001b[32m    500\u001b[39m session = SparkSession(sc, options=\u001b[38;5;28mself\u001b[39m._options)\n",
      "\u001b[36mFile \u001b[39m\u001b[32mc:\\Users\\rroganna\\Desktop\\PaperHub\\venv\\Lib\\site-packages\\pyspark\\context.py:515\u001b[39m, in \u001b[36mSparkContext.getOrCreate\u001b[39m\u001b[34m(cls, conf)\u001b[39m\n\u001b[32m    513\u001b[39m \u001b[38;5;28;01mwith\u001b[39;00m SparkContext._lock:\n\u001b[32m    514\u001b[39m     \u001b[38;5;28;01mif\u001b[39;00m SparkContext._active_spark_context \u001b[38;5;129;01mis\u001b[39;00m \u001b[38;5;28;01mNone\u001b[39;00m:\n\u001b[32m--> \u001b[39m\u001b[32m515\u001b[39m         \u001b[43mSparkContext\u001b[49m\u001b[43m(\u001b[49m\u001b[43mconf\u001b[49m\u001b[43m=\u001b[49m\u001b[43mconf\u001b[49m\u001b[43m \u001b[49m\u001b[38;5;129;43;01mor\u001b[39;49;00m\u001b[43m \u001b[49m\u001b[43mSparkConf\u001b[49m\u001b[43m(\u001b[49m\u001b[43m)\u001b[49m\u001b[43m)\u001b[49m\n\u001b[32m    516\u001b[39m     \u001b[38;5;28;01massert\u001b[39;00m SparkContext._active_spark_context \u001b[38;5;129;01mis\u001b[39;00m \u001b[38;5;129;01mnot\u001b[39;00m \u001b[38;5;28;01mNone\u001b[39;00m\n\u001b[32m    517\u001b[39m     \u001b[38;5;28;01mreturn\u001b[39;00m SparkContext._active_spark_context\n",
      "\u001b[36mFile \u001b[39m\u001b[32mc:\\Users\\rroganna\\Desktop\\PaperHub\\venv\\Lib\\site-packages\\pyspark\\context.py:201\u001b[39m, in \u001b[36mSparkContext.__init__\u001b[39m\u001b[34m(self, master, appName, sparkHome, pyFiles, environment, batchSize, serializer, conf, gateway, jsc, profiler_cls, udf_profiler_cls, memory_profiler_cls)\u001b[39m\n\u001b[32m    195\u001b[39m \u001b[38;5;28;01mif\u001b[39;00m gateway \u001b[38;5;129;01mis\u001b[39;00m \u001b[38;5;129;01mnot\u001b[39;00m \u001b[38;5;28;01mNone\u001b[39;00m \u001b[38;5;129;01mand\u001b[39;00m gateway.gateway_parameters.auth_token \u001b[38;5;129;01mis\u001b[39;00m \u001b[38;5;28;01mNone\u001b[39;00m:\n\u001b[32m    196\u001b[39m     \u001b[38;5;28;01mraise\u001b[39;00m \u001b[38;5;167;01mValueError\u001b[39;00m(\n\u001b[32m    197\u001b[39m         \u001b[33m\"\u001b[39m\u001b[33mYou are trying to pass an insecure Py4j gateway to Spark. This\u001b[39m\u001b[33m\"\u001b[39m\n\u001b[32m    198\u001b[39m         \u001b[33m\"\u001b[39m\u001b[33m is not allowed as it is a security risk.\u001b[39m\u001b[33m\"\u001b[39m\n\u001b[32m    199\u001b[39m     )\n\u001b[32m--> \u001b[39m\u001b[32m201\u001b[39m \u001b[43mSparkContext\u001b[49m\u001b[43m.\u001b[49m\u001b[43m_ensure_initialized\u001b[49m\u001b[43m(\u001b[49m\u001b[38;5;28;43mself\u001b[39;49m\u001b[43m,\u001b[49m\u001b[43m \u001b[49m\u001b[43mgateway\u001b[49m\u001b[43m=\u001b[49m\u001b[43mgateway\u001b[49m\u001b[43m,\u001b[49m\u001b[43m \u001b[49m\u001b[43mconf\u001b[49m\u001b[43m=\u001b[49m\u001b[43mconf\u001b[49m\u001b[43m)\u001b[49m\n\u001b[32m    202\u001b[39m \u001b[38;5;28;01mtry\u001b[39;00m:\n\u001b[32m    203\u001b[39m     \u001b[38;5;28mself\u001b[39m._do_init(\n\u001b[32m    204\u001b[39m         master,\n\u001b[32m    205\u001b[39m         appName,\n\u001b[32m   (...)\u001b[39m\u001b[32m    215\u001b[39m         memory_profiler_cls,\n\u001b[32m    216\u001b[39m     )\n",
      "\u001b[36mFile \u001b[39m\u001b[32mc:\\Users\\rroganna\\Desktop\\PaperHub\\venv\\Lib\\site-packages\\pyspark\\context.py:436\u001b[39m, in \u001b[36mSparkContext._ensure_initialized\u001b[39m\u001b[34m(cls, instance, gateway, conf)\u001b[39m\n\u001b[32m    434\u001b[39m \u001b[38;5;28;01mwith\u001b[39;00m SparkContext._lock:\n\u001b[32m    435\u001b[39m     \u001b[38;5;28;01mif\u001b[39;00m \u001b[38;5;129;01mnot\u001b[39;00m SparkContext._gateway:\n\u001b[32m--> \u001b[39m\u001b[32m436\u001b[39m         SparkContext._gateway = gateway \u001b[38;5;129;01mor\u001b[39;00m \u001b[43mlaunch_gateway\u001b[49m\u001b[43m(\u001b[49m\u001b[43mconf\u001b[49m\u001b[43m)\u001b[49m\n\u001b[32m    437\u001b[39m         SparkContext._jvm = SparkContext._gateway.jvm\n\u001b[32m    439\u001b[39m     \u001b[38;5;28;01mif\u001b[39;00m instance:\n",
      "\u001b[36mFile \u001b[39m\u001b[32mc:\\Users\\rroganna\\Desktop\\PaperHub\\venv\\Lib\\site-packages\\pyspark\\java_gateway.py:104\u001b[39m, in \u001b[36mlaunch_gateway\u001b[39m\u001b[34m(conf, popen_kwargs)\u001b[39m\n\u001b[32m    102\u001b[39m \u001b[38;5;66;03m# Wait for the file to appear, or for the process to exit, whichever happens first.\u001b[39;00m\n\u001b[32m    103\u001b[39m \u001b[38;5;28;01mwhile\u001b[39;00m \u001b[38;5;129;01mnot\u001b[39;00m proc.poll() \u001b[38;5;129;01mand\u001b[39;00m \u001b[38;5;129;01mnot\u001b[39;00m os.path.isfile(conn_info_file):\n\u001b[32m--> \u001b[39m\u001b[32m104\u001b[39m     \u001b[43mtime\u001b[49m\u001b[43m.\u001b[49m\u001b[43msleep\u001b[49m\u001b[43m(\u001b[49m\u001b[32;43m0.1\u001b[39;49m\u001b[43m)\u001b[49m\n\u001b[32m    106\u001b[39m \u001b[38;5;28;01mif\u001b[39;00m \u001b[38;5;129;01mnot\u001b[39;00m os.path.isfile(conn_info_file):\n\u001b[32m    107\u001b[39m     \u001b[38;5;28;01mraise\u001b[39;00m PySparkRuntimeError(\n\u001b[32m    108\u001b[39m         error_class=\u001b[33m\"\u001b[39m\u001b[33mJAVA_GATEWAY_EXITED\u001b[39m\u001b[33m\"\u001b[39m,\n\u001b[32m    109\u001b[39m         message_parameters={},\n\u001b[32m    110\u001b[39m     )\n",
      "\u001b[31mKeyboardInterrupt\u001b[39m: "
     ]
    }
   ],
   "source": [
    "from pyspark.sql import SparkSession\n",
    "\n",
    "# Initialize a Spark session\n",
    "spark = SparkSession.builder \\\n",
    "    .appName(\"Read JSONL File\") \\\n",
    "    .getOrCreate()\n",
    "\n",
    "# Path to your JSONL file\n",
    "file_path = \"C:\\\\Users\\\\rroganna\\\\Downloads\\\\DBLP-Citation-network-V17\\\\DBLP-Citation-network-V17.jsonl\"\n",
    "\n",
    "# Read the JSONL file into a Spark DataFrame\n",
    "df = spark.read.json(file_path)\n",
    "\n",
    "# Limit the DataFrame to the first 10,000 rows\n",
    "df_limited = df.limit(10000)\n",
    "\n",
    "# Show the first few rows of the limited DataFrame\n",
    "df_limited.show()\n",
    "\n",
    "# If you need to convert it to a Pandas DataFrame\n",
    "pandas_df = df_limited.toPandas()\n",
    "\n",
    "# Display the Pandas DataFrame\n",
    "print(pandas_df.head())\n"
   ]
  },
  {
   "cell_type": "code",
   "execution_count": 7,
   "metadata": {},
   "outputs": [],
   "source": [
    "import matplotlib.pyplot as plt\n",
    "\n",
    "# Initialize dictionaries to store results\n",
    "results = {\n",
    "    \"k\": [],\n",
    "    \"train_silhouette\": [],\n",
    "    \"train_davies_bouldin\": [],\n",
    "    \"train_calinski_harabasz\": [],\n",
    "    \"train_intracluster\": [],\n",
    "    \"train_intercluster\": [],\n",
    "    \"test_silhouette\": [],\n",
    "    \"test_davies_bouldin\": [],\n",
    "    \"test_calinski_harabasz\": [],\n",
    "    \"test_intracluster\": [],\n",
    "    \"test_intercluster\": []\n",
    "}\n",
    "\n",
    "# Add results for each k\n",
    "results[\"k\"].extend([100, 101, 102, 103, 104, 105, 106, 107, 108, 109, 110, 111, 112, 113, 114, 115, 116, 117, 118, 119, 120, 121, 122, 123, 124, 125, 126, 127, 128, 129, 130, 131, 132, 133, 134, 135, 136, 137, 138, 139, 140, 141, 142, 143, 144, 145, 146, 147, 148, 149])\n",
    "results[\"train_silhouette\"].extend([0.9927, 0.9931, 0.9934, 0.9937, 0.9941, 0.9940, 0.9943, 0.9946, 0.9948, 0.9950, 0.9953, 0.9953, 0.9954, 0.9960, 0.9962, 0.9963, 0.9963, 0.9963, 0.9968, 0.9968, 0.9969, 0.9971, 0.9971, 0.9972, 0.9973, 0.9973, 0.9974, 0.9975, 0.9975, 0.9976, 0.9977, 0.9978, 0.9978, 0.9979, 0.9980, 0.9980, 0.9981, 0.7022, 0.9260, 0.9269, 0.4650, 0.2391, 0.9343, 0.8520, 0.9088, 0.7397, 0.4560, 0.9835])\n",
    "results[\"train_davies_bouldin\"].extend([0.4845, 0.4800, 0.4737, 0.4728, 0.4730, 0.4312, 0.4307, 0.4287, 0.3923, 0.3895, 0.3860, 0.3827, 0.3822, 0.3810, 0.3776, 0.3771, 0.3750, 0.3621, 0.3579, 0.3561, 0.3457, 0.3385, 0.2544, 0.2528, 0.2518, 0.2498, 0.2451, 0.2437, 0.2024, 0.1994, 0.1949, 0.1930, 0.1924, 0.1264, 0.0766, 0.0398, 0.0299, 0.0000, 0.6397, 0.0299, 0.0155, 0.7975, 0.6556, 0.4634, 0.1950, 0.1027, 0.1993, 0.2393, 0.0366])\n",
    "results[\"train_calinski_harabasz\"].extend([46536.88, 49336.59, 50780.16, 55267.12, 58683.46, 59507.48, 62167.91, 65768.71, 69909.46, 73964.14, 77707.85, 80661.85, 85870.95, 92942.92, 97859.21, 103734.17, 109709.63, 113045.47, 120786.78, 130292.17, 137403.57, 147171.93, 153841.39, 168212.92, 187965.87, 209339.23, 232042.40, 265889.46, 299814.25, 352498.18, 424315.25, 525104.18, 698644.81, 876519.25, 1271873.62, 2033130.25, 4118138.50, 125030776832.0, 233830514688.0, 147881000960.0, 148634042368.0, 523892916224.0, 238625816576.0, 123999830016.0, 120623734784.0, 119308025856.0, 170691526656.0, 479177605120.0, 122868375552.0])\n",
    "# Similarly, add other metrics for testing data"
   ]
  },
  {
   "cell_type": "code",
   "execution_count": 9,
   "metadata": {},
   "outputs": [
    {
     "name": "stdout",
     "output_type": "stream",
     "text": [
      "k: 50\n",
      "train_silhouette: 48\n",
      "train_davies_bouldin: 49\n",
      "train_calinski_harabasz: 49\n",
      "train_intracluster: 0\n",
      "train_intercluster: 0\n",
      "test_silhouette: 0\n",
      "test_davies_bouldin: 0\n",
      "test_calinski_harabasz: 0\n",
      "test_intracluster: 0\n",
      "test_intercluster: 0\n"
     ]
    }
   ],
   "source": [
    "for key, value in results.items():\n",
    "    print(f\"{key}: {len(value)}\")"
   ]
  },
  {
   "cell_type": "code",
   "execution_count": 3,
   "metadata": {},
   "outputs": [
    {
     "name": "stdout",
     "output_type": "stream",
     "text": [
      "                                            abstract  \\\n",
      "0  The purpose of this study is to develop a lear...   \n",
      "1  This paper describes the design and implementa...   \n",
      "2  This article applied GARCH model instead AR or...   \n",
      "3                                                NaN   \n",
      "4                                                NaN   \n",
      "\n",
      "                                             authors  n_citation  \\\n",
      "0  [Makoto Satoh, Ryo Muramatsu, Mizue Kayama, Ka...           0   \n",
      "1                        [Gareth Beale, Graeme Earl]          50   \n",
      "2  [Altaf Hossain, Faisal Zaman, Mohammed Nasser,...          50   \n",
      "3  [Jea-Bum Park, Byungmok Kim, Jian Shen, Sun-Yo...           0   \n",
      "4                [Giovanna Guerrini, Isabella Merlo]           2   \n",
      "\n",
      "                                          references  \\\n",
      "0  [51c7e02e-f5ed-431a-8cf5-f761f266d4be, 69b625b...   \n",
      "1  [10482dd3-4642-4193-842f-85f3b70fcf65, 3133714...   \n",
      "2  [2d84c0f2-e656-4ce7-b018-90eda1c132fe, a083a1b...   \n",
      "3  [8c78e4b0-632b-4293-b491-85b1976675e6, 9cdc54f...   \n",
      "4                                                NaN   \n",
      "\n",
      "                                               title  \\\n",
      "0  Preliminary Design of a Network Protocol Learn...   \n",
      "1  A methodology for the physically accurate visu...   \n",
      "2  Comparison of GARCH, Neural Network and Suppor...   \n",
      "3  Development of Remote Monitoring and Control D...   \n",
      "4  Reasonig about Set-Oriented Methods in Object ...   \n",
      "\n",
      "                                               venue  year  \\\n",
      "0  international conference on human-computer int...  2013   \n",
      "1            visual analytics science and technology  2011   \n",
      "2       pattern recognition and machine intelligence  2009   \n",
      "3                                                     2011   \n",
      "4                                                     1998   \n",
      "\n",
      "                                     id  \n",
      "0  00127ee2-cb05-48ce-bc49-9de556b93346  \n",
      "1  001c58d3-26ad-46b3-ab3a-c1e557d16821  \n",
      "2  001c8744-73c4-4b04-9364-22d31a10dbf1  \n",
      "3  00338203-9eb3-40c5-9f31-cbac73a519ec  \n",
      "4  0040b022-1472-4f70-a753-74832df65266  \n"
     ]
    }
   ],
   "source": [
    "import json\n",
    "import pandas as pd\n",
    "\n",
    "# Path to your large JSON file\n",
    "json_path = \"C:\\\\Users\\\\rroganna\\\\Downloads\\\\dblp.v10\\\\dblp-ref\\\\dblp-ref-0.json\"\n",
    "\n",
    "# List to store first 1000 entries\n",
    "papers = []\n",
    "\n",
    "# Read the file line by line\n",
    "with open(json_path, \"r\", encoding=\"utf-8\") as f:\n",
    "    for i, line in enumerate(f):\n",
    "        if i >= 1000:  # limit to 1000 papers\n",
    "            break\n",
    "        papers.append(json.loads(line))\n",
    "\n",
    "# Convert to DataFrame\n",
    "df = pd.DataFrame(papers)\n",
    "\n",
    "# Preview\n",
    "print(df.head())"
   ]
  },
  {
   "cell_type": "code",
   "execution_count": 5,
   "metadata": {},
   "outputs": [],
   "source": [
    "df.to_csv(\"first_1000_papers.csv\", index=False)\n"
   ]
  },
  {
   "cell_type": "code",
   "execution_count": null,
   "metadata": {},
   "outputs": [],
   "source": []
  }
 ],
 "metadata": {
  "kernelspec": {
   "display_name": "venv",
   "language": "python",
   "name": "python3"
  },
  "language_info": {
   "codemirror_mode": {
    "name": "ipython",
    "version": 3
   },
   "file_extension": ".py",
   "mimetype": "text/x-python",
   "name": "python",
   "nbconvert_exporter": "python",
   "pygments_lexer": "ipython3",
   "version": "3.13.2"
  }
 },
 "nbformat": 4,
 "nbformat_minor": 2
}
